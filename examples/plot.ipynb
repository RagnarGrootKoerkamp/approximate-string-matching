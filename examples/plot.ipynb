{
 "cells": [
  {
   "cell_type": "code",
   "execution_count": 21,
   "metadata": {},
   "outputs": [
    {
     "name": "stderr",
     "output_type": "stream",
     "text": [
      "/tmp/ipykernel_417465/3189833657.py:22: MatplotlibDeprecationWarning:\n",
      "\n",
      "The get_cmap function was deprecated in Matplotlib 3.7 and will be removed in 3.11. Use ``matplotlib.colormaps[name]`` or ``matplotlib.colormaps.get_cmap()`` or ``pyplot.get_cmap()`` instead.\n",
      "\n"
     ]
    },
    {
     "data": {
      "application/vnd.plotly.v1+json": {
       "config": {
        "plotlyServerURL": "https://plot.ly"
       },
       "data": [
        {
         "legendgroup": "40",
         "line": {
          "color": "#30123b",
          "dash": "dash",
          "width": 2
         },
         "marker": {
          "color": "#30123b",
          "line": {
           "color": "black",
           "width": 1
          },
          "size": 10,
          "symbol": "square"
         },
         "mode": "markers+lines",
         "name": "Query 40",
         "showlegend": true,
         "type": "scatter",
         "x": [
          1000,
          2000,
          5000,
          10000,
          20000,
          100000
         ],
         "y": [
          8.263157894736842,
          6.703030303030304,
          5.777464788732395,
          5.478321678321678,
          5.122344322344322,
          5.023920736022647
         ]
        },
        {
         "legendgroup": "80",
         "line": {
          "color": "#4454c3",
          "dash": "dash",
          "width": 2
         },
         "marker": {
          "color": "#4454c3",
          "line": {
           "color": "black",
           "width": 1
          },
          "size": 10,
          "symbol": "square"
         },
         "mode": "markers+lines",
         "name": "Query 80",
         "showlegend": true,
         "type": "scatter",
         "x": [
          1000,
          2000,
          5000,
          10000,
          20000,
          100000
         ],
         "y": [
          4.601941747572815,
          4.945848375451264,
          3.565671641791045,
          3.66720128307939,
          3.8556105610561056,
          3.4512365458877663
         ]
        },
        {
         "legendgroup": "100",
         "line": {
          "color": "#448ffe",
          "dash": "dash",
          "width": 2
         },
         "marker": {
          "color": "#448ffe",
          "line": {
           "color": "black",
           "width": 1
          },
          "size": 10,
          "symbol": "square"
         },
         "mode": "markers+lines",
         "name": "Query 100",
         "showlegend": true,
         "type": "scatter",
         "x": [
          1000,
          2000,
          5000,
          10000,
          20000,
          100000
         ],
         "y": [
          4.495495495495495,
          3.886740331491713,
          2.7236403995560488,
          3.382528127068167,
          3.0222747215659806,
          3.0164046949001304
         ]
        },
        {
         "legendgroup": "200",
         "line": {
          "color": "#20c7df",
          "dash": "dash",
          "width": 2
         },
         "marker": {
          "color": "#20c7df",
          "line": {
           "color": "black",
           "width": 1
          },
          "size": 10,
          "symbol": "square"
         },
         "mode": "markers+lines",
         "name": "Query 200",
         "showlegend": true,
         "type": "scatter",
         "x": [
          1000,
          2000,
          5000,
          10000,
          20000,
          100000
         ],
         "y": [
          2.225524475524476,
          2.238509316770186,
          1.6736359000509944,
          1.390503597122302,
          1.5380630984146915,
          1.4434889434889435
         ]
        },
        {
         "legendgroup": "400",
         "line": {
          "color": "#2aefa1",
          "dash": "dash",
          "width": 2
         },
         "marker": {
          "color": "#2aefa1",
          "line": {
           "color": "black",
           "width": 1
          },
          "size": 10,
          "symbol": "square"
         },
         "mode": "markers+lines",
         "name": "Query 400",
         "showlegend": true,
         "type": "scatter",
         "x": [
          1000,
          2000,
          5000,
          10000,
          20000,
          100000
         ],
         "y": [
          1.2504548211036994,
          0.9085510688836104,
          0.8357427194636498,
          0.9068509615384616,
          0.7498297951352356,
          0.753254014693453
         ]
        },
        {
         "legendgroup": "800",
         "line": {
          "color": "#7dff56",
          "dash": "dash",
          "width": 2
         },
         "marker": {
          "color": "#7dff56",
          "line": {
           "color": "black",
           "width": 1
          },
          "size": 10,
          "symbol": "square"
         },
         "mode": "markers+lines",
         "name": "Query 800",
         "showlegend": true,
         "type": "scatter",
         "x": [
          1000,
          2000,
          5000,
          10000,
          20000,
          100000
         ],
         "y": [
          0.4204152249134948,
          0.6474123539232054,
          0.49580135440180584,
          0.5573444643212084,
          0.4370699642966921,
          0.4583515183383725
         ]
        },
        {
         "legendgroup": "1000",
         "line": {
          "color": "#c1f334",
          "dash": "dash",
          "width": 2
         },
         "marker": {
          "color": "#c1f334",
          "line": {
           "color": "black",
           "width": 1
          },
          "size": 10,
          "symbol": "square"
         },
         "mode": "markers+lines",
         "name": "Query 1000",
         "showlegend": true,
         "type": "scatter",
         "x": [
          1000,
          2000,
          5000,
          10000,
          20000,
          100000
         ],
         "y": [
          0.3170028818443804,
          0.5605872388481085,
          0.4539253457967536,
          0.5468862661758568,
          0.39025405292927,
          0.3921262232284208
         ]
        },
        {
         "legendgroup": "1200",
         "line": {
          "color": "#f1cb3a",
          "dash": "dash",
          "width": 2
         },
         "marker": {
          "color": "#f1cb3a",
          "line": {
           "color": "black",
           "width": 1
          },
          "size": 10,
          "symbol": "square"
         },
         "mode": "markers+lines",
         "name": "Query 1200",
         "showlegend": true,
         "type": "scatter",
         "x": [
          2000,
          5000,
          10000,
          20000,
          100000
         ],
         "y": [
          0.9204647737501023,
          0.8584863661658321,
          0.6501827427300175,
          0.49007465810773093,
          0.42496863594890505
         ]
        },
        {
         "legendgroup": "1400",
         "line": {
          "color": "#fe9029",
          "dash": "dash",
          "width": 2
         },
         "marker": {
          "color": "#fe9029",
          "line": {
           "color": "black",
           "width": 1
          },
          "size": 10,
          "symbol": "square"
         },
         "mode": "markers+lines",
         "name": "Query 1400",
         "showlegend": true,
         "type": "scatter",
         "x": [
          2000,
          5000,
          10000,
          20000,
          100000
         ],
         "y": [
          1.1519772892321913,
          0.931684434968017,
          0.7315293956732851,
          0.5968246262796442,
          0.3850776314252249
         ]
        },
        {
         "legendgroup": "1600",
         "line": {
          "color": "#ea4e0d",
          "dash": "dash",
          "width": 2
         },
         "marker": {
          "color": "#ea4e0d",
          "line": {
           "color": "black",
           "width": 1
          },
          "size": 10,
          "symbol": "square"
         },
         "mode": "markers+lines",
         "name": "Query 1600",
         "showlegend": true,
         "type": "scatter",
         "x": [
          2000,
          5000,
          10000,
          20000,
          100000
         ],
         "y": [
          0.17549371633752245,
          1.0455983239534978,
          0.7290761144243404,
          0.5654812362921998,
          0.3916353761655656
         ]
        },
        {
         "legendgroup": "1800",
         "line": {
          "color": "#be2102",
          "dash": "dash",
          "width": 2
         },
         "marker": {
          "color": "#be2102",
          "line": {
           "color": "black",
           "width": 1
          },
          "size": 10,
          "symbol": "square"
         },
         "mode": "markers+lines",
         "name": "Query 1800",
         "showlegend": true,
         "type": "scatter",
         "x": [
          2000,
          5000,
          10000,
          20000,
          100000
         ],
         "y": [
          0.1483176645225136,
          0.5965400871531077,
          0.4815281102947247,
          0.3148252257019082,
          0.33450419254621533
         ]
        },
        {
         "legendgroup": "2000",
         "line": {
          "color": "#7a0403",
          "dash": "dash",
          "width": 2
         },
         "marker": {
          "color": "#7a0403",
          "line": {
           "color": "black",
           "width": 1
          },
          "size": 10,
          "symbol": "square"
         },
         "mode": "markers+lines",
         "name": "Query 2000",
         "showlegend": true,
         "type": "scatter",
         "x": [
          2000,
          5000,
          10000,
          20000,
          100000
         ],
         "y": [
          0.13230277185501066,
          0.5794416030854365,
          0.5669051816516298,
          0.3470949551908166,
          0.3488855262262066
         ]
        },
        {
         "line": {
          "color": "gray",
          "dash": "dash",
          "width": 2
         },
         "marker": {
          "color": "gray",
          "line": {
           "color": "black"
          },
          "size": 10,
          "symbol": "square"
         },
         "mode": "markers+lines",
         "name": "Unbounded Speedup",
         "type": "scatter",
         "x": [
          null
         ],
         "y": [
          null
         ]
        }
       ],
       "layout": {
        "font": {
         "size": 16
        },
        "height": 700,
        "legend": {
         "orientation": "h",
         "title": {},
         "x": 0.5,
         "xanchor": "center",
         "y": -0.3,
         "yanchor": "bottom"
        },
        "shapes": [
         {
          "line": {
           "color": "gray",
           "dash": "dot"
          },
          "type": "line",
          "x0": 0,
          "x1": 1,
          "xref": "x domain",
          "y0": 1,
          "y1": 1,
          "yref": "y"
         }
        ],
        "template": {
         "data": {
          "bar": [
           {
            "error_x": {
             "color": "#2a3f5f"
            },
            "error_y": {
             "color": "#2a3f5f"
            },
            "marker": {
             "line": {
              "color": "white",
              "width": 0.5
             },
             "pattern": {
              "fillmode": "overlay",
              "size": 10,
              "solidity": 0.2
             }
            },
            "type": "bar"
           }
          ],
          "barpolar": [
           {
            "marker": {
             "line": {
              "color": "white",
              "width": 0.5
             },
             "pattern": {
              "fillmode": "overlay",
              "size": 10,
              "solidity": 0.2
             }
            },
            "type": "barpolar"
           }
          ],
          "carpet": [
           {
            "aaxis": {
             "endlinecolor": "#2a3f5f",
             "gridcolor": "#C8D4E3",
             "linecolor": "#C8D4E3",
             "minorgridcolor": "#C8D4E3",
             "startlinecolor": "#2a3f5f"
            },
            "baxis": {
             "endlinecolor": "#2a3f5f",
             "gridcolor": "#C8D4E3",
             "linecolor": "#C8D4E3",
             "minorgridcolor": "#C8D4E3",
             "startlinecolor": "#2a3f5f"
            },
            "type": "carpet"
           }
          ],
          "choropleth": [
           {
            "colorbar": {
             "outlinewidth": 0,
             "ticks": ""
            },
            "type": "choropleth"
           }
          ],
          "contour": [
           {
            "colorbar": {
             "outlinewidth": 0,
             "ticks": ""
            },
            "colorscale": [
             [
              0,
              "#0d0887"
             ],
             [
              0.1111111111111111,
              "#46039f"
             ],
             [
              0.2222222222222222,
              "#7201a8"
             ],
             [
              0.3333333333333333,
              "#9c179e"
             ],
             [
              0.4444444444444444,
              "#bd3786"
             ],
             [
              0.5555555555555556,
              "#d8576b"
             ],
             [
              0.6666666666666666,
              "#ed7953"
             ],
             [
              0.7777777777777778,
              "#fb9f3a"
             ],
             [
              0.8888888888888888,
              "#fdca26"
             ],
             [
              1,
              "#f0f921"
             ]
            ],
            "type": "contour"
           }
          ],
          "contourcarpet": [
           {
            "colorbar": {
             "outlinewidth": 0,
             "ticks": ""
            },
            "type": "contourcarpet"
           }
          ],
          "heatmap": [
           {
            "colorbar": {
             "outlinewidth": 0,
             "ticks": ""
            },
            "colorscale": [
             [
              0,
              "#0d0887"
             ],
             [
              0.1111111111111111,
              "#46039f"
             ],
             [
              0.2222222222222222,
              "#7201a8"
             ],
             [
              0.3333333333333333,
              "#9c179e"
             ],
             [
              0.4444444444444444,
              "#bd3786"
             ],
             [
              0.5555555555555556,
              "#d8576b"
             ],
             [
              0.6666666666666666,
              "#ed7953"
             ],
             [
              0.7777777777777778,
              "#fb9f3a"
             ],
             [
              0.8888888888888888,
              "#fdca26"
             ],
             [
              1,
              "#f0f921"
             ]
            ],
            "type": "heatmap"
           }
          ],
          "heatmapgl": [
           {
            "colorbar": {
             "outlinewidth": 0,
             "ticks": ""
            },
            "colorscale": [
             [
              0,
              "#0d0887"
             ],
             [
              0.1111111111111111,
              "#46039f"
             ],
             [
              0.2222222222222222,
              "#7201a8"
             ],
             [
              0.3333333333333333,
              "#9c179e"
             ],
             [
              0.4444444444444444,
              "#bd3786"
             ],
             [
              0.5555555555555556,
              "#d8576b"
             ],
             [
              0.6666666666666666,
              "#ed7953"
             ],
             [
              0.7777777777777778,
              "#fb9f3a"
             ],
             [
              0.8888888888888888,
              "#fdca26"
             ],
             [
              1,
              "#f0f921"
             ]
            ],
            "type": "heatmapgl"
           }
          ],
          "histogram": [
           {
            "marker": {
             "pattern": {
              "fillmode": "overlay",
              "size": 10,
              "solidity": 0.2
             }
            },
            "type": "histogram"
           }
          ],
          "histogram2d": [
           {
            "colorbar": {
             "outlinewidth": 0,
             "ticks": ""
            },
            "colorscale": [
             [
              0,
              "#0d0887"
             ],
             [
              0.1111111111111111,
              "#46039f"
             ],
             [
              0.2222222222222222,
              "#7201a8"
             ],
             [
              0.3333333333333333,
              "#9c179e"
             ],
             [
              0.4444444444444444,
              "#bd3786"
             ],
             [
              0.5555555555555556,
              "#d8576b"
             ],
             [
              0.6666666666666666,
              "#ed7953"
             ],
             [
              0.7777777777777778,
              "#fb9f3a"
             ],
             [
              0.8888888888888888,
              "#fdca26"
             ],
             [
              1,
              "#f0f921"
             ]
            ],
            "type": "histogram2d"
           }
          ],
          "histogram2dcontour": [
           {
            "colorbar": {
             "outlinewidth": 0,
             "ticks": ""
            },
            "colorscale": [
             [
              0,
              "#0d0887"
             ],
             [
              0.1111111111111111,
              "#46039f"
             ],
             [
              0.2222222222222222,
              "#7201a8"
             ],
             [
              0.3333333333333333,
              "#9c179e"
             ],
             [
              0.4444444444444444,
              "#bd3786"
             ],
             [
              0.5555555555555556,
              "#d8576b"
             ],
             [
              0.6666666666666666,
              "#ed7953"
             ],
             [
              0.7777777777777778,
              "#fb9f3a"
             ],
             [
              0.8888888888888888,
              "#fdca26"
             ],
             [
              1,
              "#f0f921"
             ]
            ],
            "type": "histogram2dcontour"
           }
          ],
          "mesh3d": [
           {
            "colorbar": {
             "outlinewidth": 0,
             "ticks": ""
            },
            "type": "mesh3d"
           }
          ],
          "parcoords": [
           {
            "line": {
             "colorbar": {
              "outlinewidth": 0,
              "ticks": ""
             }
            },
            "type": "parcoords"
           }
          ],
          "pie": [
           {
            "automargin": true,
            "type": "pie"
           }
          ],
          "scatter": [
           {
            "fillpattern": {
             "fillmode": "overlay",
             "size": 10,
             "solidity": 0.2
            },
            "type": "scatter"
           }
          ],
          "scatter3d": [
           {
            "line": {
             "colorbar": {
              "outlinewidth": 0,
              "ticks": ""
             }
            },
            "marker": {
             "colorbar": {
              "outlinewidth": 0,
              "ticks": ""
             }
            },
            "type": "scatter3d"
           }
          ],
          "scattercarpet": [
           {
            "marker": {
             "colorbar": {
              "outlinewidth": 0,
              "ticks": ""
             }
            },
            "type": "scattercarpet"
           }
          ],
          "scattergeo": [
           {
            "marker": {
             "colorbar": {
              "outlinewidth": 0,
              "ticks": ""
             }
            },
            "type": "scattergeo"
           }
          ],
          "scattergl": [
           {
            "marker": {
             "colorbar": {
              "outlinewidth": 0,
              "ticks": ""
             }
            },
            "type": "scattergl"
           }
          ],
          "scattermapbox": [
           {
            "marker": {
             "colorbar": {
              "outlinewidth": 0,
              "ticks": ""
             }
            },
            "type": "scattermapbox"
           }
          ],
          "scatterpolar": [
           {
            "marker": {
             "colorbar": {
              "outlinewidth": 0,
              "ticks": ""
             }
            },
            "type": "scatterpolar"
           }
          ],
          "scatterpolargl": [
           {
            "marker": {
             "colorbar": {
              "outlinewidth": 0,
              "ticks": ""
             }
            },
            "type": "scatterpolargl"
           }
          ],
          "scatterternary": [
           {
            "marker": {
             "colorbar": {
              "outlinewidth": 0,
              "ticks": ""
             }
            },
            "type": "scatterternary"
           }
          ],
          "surface": [
           {
            "colorbar": {
             "outlinewidth": 0,
             "ticks": ""
            },
            "colorscale": [
             [
              0,
              "#0d0887"
             ],
             [
              0.1111111111111111,
              "#46039f"
             ],
             [
              0.2222222222222222,
              "#7201a8"
             ],
             [
              0.3333333333333333,
              "#9c179e"
             ],
             [
              0.4444444444444444,
              "#bd3786"
             ],
             [
              0.5555555555555556,
              "#d8576b"
             ],
             [
              0.6666666666666666,
              "#ed7953"
             ],
             [
              0.7777777777777778,
              "#fb9f3a"
             ],
             [
              0.8888888888888888,
              "#fdca26"
             ],
             [
              1,
              "#f0f921"
             ]
            ],
            "type": "surface"
           }
          ],
          "table": [
           {
            "cells": {
             "fill": {
              "color": "#EBF0F8"
             },
             "line": {
              "color": "white"
             }
            },
            "header": {
             "fill": {
              "color": "#C8D4E3"
             },
             "line": {
              "color": "white"
             }
            },
            "type": "table"
           }
          ]
         },
         "layout": {
          "annotationdefaults": {
           "arrowcolor": "#2a3f5f",
           "arrowhead": 0,
           "arrowwidth": 1
          },
          "autotypenumbers": "strict",
          "coloraxis": {
           "colorbar": {
            "outlinewidth": 0,
            "ticks": ""
           }
          },
          "colorscale": {
           "diverging": [
            [
             0,
             "#8e0152"
            ],
            [
             0.1,
             "#c51b7d"
            ],
            [
             0.2,
             "#de77ae"
            ],
            [
             0.3,
             "#f1b6da"
            ],
            [
             0.4,
             "#fde0ef"
            ],
            [
             0.5,
             "#f7f7f7"
            ],
            [
             0.6,
             "#e6f5d0"
            ],
            [
             0.7,
             "#b8e186"
            ],
            [
             0.8,
             "#7fbc41"
            ],
            [
             0.9,
             "#4d9221"
            ],
            [
             1,
             "#276419"
            ]
           ],
           "sequential": [
            [
             0,
             "#0d0887"
            ],
            [
             0.1111111111111111,
             "#46039f"
            ],
            [
             0.2222222222222222,
             "#7201a8"
            ],
            [
             0.3333333333333333,
             "#9c179e"
            ],
            [
             0.4444444444444444,
             "#bd3786"
            ],
            [
             0.5555555555555556,
             "#d8576b"
            ],
            [
             0.6666666666666666,
             "#ed7953"
            ],
            [
             0.7777777777777778,
             "#fb9f3a"
            ],
            [
             0.8888888888888888,
             "#fdca26"
            ],
            [
             1,
             "#f0f921"
            ]
           ],
           "sequentialminus": [
            [
             0,
             "#0d0887"
            ],
            [
             0.1111111111111111,
             "#46039f"
            ],
            [
             0.2222222222222222,
             "#7201a8"
            ],
            [
             0.3333333333333333,
             "#9c179e"
            ],
            [
             0.4444444444444444,
             "#bd3786"
            ],
            [
             0.5555555555555556,
             "#d8576b"
            ],
            [
             0.6666666666666666,
             "#ed7953"
            ],
            [
             0.7777777777777778,
             "#fb9f3a"
            ],
            [
             0.8888888888888888,
             "#fdca26"
            ],
            [
             1,
             "#f0f921"
            ]
           ]
          },
          "colorway": [
           "#636efa",
           "#EF553B",
           "#00cc96",
           "#ab63fa",
           "#FFA15A",
           "#19d3f3",
           "#FF6692",
           "#B6E880",
           "#FF97FF",
           "#FECB52"
          ],
          "font": {
           "color": "#2a3f5f"
          },
          "geo": {
           "bgcolor": "white",
           "lakecolor": "white",
           "landcolor": "white",
           "showlakes": true,
           "showland": true,
           "subunitcolor": "#C8D4E3"
          },
          "hoverlabel": {
           "align": "left"
          },
          "hovermode": "closest",
          "mapbox": {
           "style": "light"
          },
          "paper_bgcolor": "white",
          "plot_bgcolor": "white",
          "polar": {
           "angularaxis": {
            "gridcolor": "#EBF0F8",
            "linecolor": "#EBF0F8",
            "ticks": ""
           },
           "bgcolor": "white",
           "radialaxis": {
            "gridcolor": "#EBF0F8",
            "linecolor": "#EBF0F8",
            "ticks": ""
           }
          },
          "scene": {
           "xaxis": {
            "backgroundcolor": "white",
            "gridcolor": "#DFE8F3",
            "gridwidth": 2,
            "linecolor": "#EBF0F8",
            "showbackground": true,
            "ticks": "",
            "zerolinecolor": "#EBF0F8"
           },
           "yaxis": {
            "backgroundcolor": "white",
            "gridcolor": "#DFE8F3",
            "gridwidth": 2,
            "linecolor": "#EBF0F8",
            "showbackground": true,
            "ticks": "",
            "zerolinecolor": "#EBF0F8"
           },
           "zaxis": {
            "backgroundcolor": "white",
            "gridcolor": "#DFE8F3",
            "gridwidth": 2,
            "linecolor": "#EBF0F8",
            "showbackground": true,
            "ticks": "",
            "zerolinecolor": "#EBF0F8"
           }
          },
          "shapedefaults": {
           "line": {
            "color": "#2a3f5f"
           }
          },
          "ternary": {
           "aaxis": {
            "gridcolor": "#DFE8F3",
            "linecolor": "#A2B1C6",
            "ticks": ""
           },
           "baxis": {
            "gridcolor": "#DFE8F3",
            "linecolor": "#A2B1C6",
            "ticks": ""
           },
           "bgcolor": "white",
           "caxis": {
            "gridcolor": "#DFE8F3",
            "linecolor": "#A2B1C6",
            "ticks": ""
           }
          },
          "title": {
           "x": 0.05
          },
          "xaxis": {
           "automargin": true,
           "gridcolor": "#EBF0F8",
           "linecolor": "#EBF0F8",
           "ticks": "",
           "title": {
            "standoff": 15
           },
           "zerolinecolor": "#EBF0F8",
           "zerolinewidth": 2
          },
          "yaxis": {
           "automargin": true,
           "gridcolor": "#EBF0F8",
           "linecolor": "#EBF0F8",
           "ticks": "",
           "title": {
            "standoff": 15
           },
           "zerolinecolor": "#EBF0F8",
           "zerolinewidth": 2
          }
         }
        },
        "title": {
         "text": "Sassy Speedup over Edlib: Unbounded"
        },
        "xaxis": {
         "tickvals": [
          1000,
          2000,
          5000,
          10000,
          20000,
          100000
         ],
         "title": {
          "text": "Reference Length (log scale)"
         },
         "type": "log"
        },
        "yaxis": {
         "title": {
          "text": "Speedup (Edlib time / Sassy time)"
         },
         "type": "log"
        }
       }
      }
     },
     "metadata": {},
     "output_type": "display_data"
    }
   ],
   "source": [
    "import pandas as pd\n",
    "import plotly.graph_objects as go\n",
    "import numpy as np\n",
    "from matplotlib import cm\n",
    "from matplotlib.colors import to_hex\n",
    "\n",
    "# Read the TSV file\n",
    "unbounded = pd.read_csv(\"bench_unbounded.tsv\", sep=\"\\t\")\n",
    "\n",
    "# Convert numeric columns for unbounded dataset\n",
    "unbounded['query_len'] = pd.to_numeric(unbounded['query_len'])\n",
    "unbounded['ref_len'] = pd.to_numeric(unbounded['ref_len'])\n",
    "unbounded['run_time'] = pd.to_numeric(unbounded['run_time'])\n",
    "\n",
    "# Create pivot table for speedup calculation\n",
    "pivot_unbounded = unbounded.pivot_table(index=[\"query_len\", \"ref_len\"], columns=\"tool\", values=\"run_time\").reset_index()\n",
    "pivot_unbounded['speedup_unbounded'] = pivot_unbounded['edlib'] / pivot_unbounded['sassy']\n",
    "\n",
    "merged = pivot_unbounded[['query_len', 'ref_len', 'speedup_unbounded']]\n",
    "\n",
    "query_lens = sorted(merged['query_len'].unique())\n",
    "cmap = cm.get_cmap('turbo', len(query_lens))\n",
    "color_map = {qlen: to_hex(cmap(i)) for i, qlen in enumerate(query_lens)}\n",
    "\n",
    "fig = go.Figure()\n",
    "\n",
    "for qlen in query_lens:\n",
    "    sub = merged[merged['query_len'] == qlen]\n",
    "    x = sub['ref_len'].values\n",
    "    color = color_map[qlen]\n",
    "\n",
    "    # Unbounded speedup\n",
    "    fig.add_trace(go.Scatter(\n",
    "        x=x,\n",
    "        y=sub['speedup_unbounded'],\n",
    "        mode='markers+lines',  # Added lines between points\n",
    "        marker=dict(\n",
    "            color=color,\n",
    "            symbol='square',\n",
    "            size=10,\n",
    "            line=dict(width=1, color='black')\n",
    "        ),\n",
    "        line=dict(\n",
    "            color=color,\n",
    "            dash='dash',  # Make lines dashed\n",
    "            width=2\n",
    "        ),\n",
    "        name=f\"Query {qlen}\",\n",
    "        legendgroup=str(qlen),\n",
    "        showlegend=True\n",
    "    ))\n",
    "\n",
    "fig.add_trace(go.Scatter(\n",
    "    x=[None], y=[None],\n",
    "    mode='markers+lines',  # Updated to match the main traces\n",
    "    marker=dict(symbol='square', color='gray', size=10, line=dict(color='black')),\n",
    "    line=dict(color='gray', dash='dash', width=2),  # Added dashed line to legend\n",
    "    name='Unbounded Speedup'\n",
    "))\n",
    "\n",
    "# Layout\n",
    "fig.update_layout(\n",
    "    title=\"Sassy Speedup over Edlib: Unbounded\",\n",
    "    xaxis_title=\"Reference Length (log scale)\",\n",
    "    yaxis_title=\"Speedup (Edlib time / Sassy time)\",\n",
    "    xaxis=dict(type='log', tickvals=sorted(merged['ref_len'].unique())),\n",
    "    yaxis=dict(type='log'),\n",
    "    template=\"plotly_white\",\n",
    "    font=dict(size=16),\n",
    "    height=700,\n",
    "    legend=dict(\n",
    "        orientation=\"h\",\n",
    "        yanchor=\"bottom\",\n",
    "        y=-0.3,\n",
    "        xanchor=\"center\",\n",
    "        x=0.5,\n",
    "        title=None\n",
    "    )\n",
    ")\n",
    "\n",
    "# Add 1X baseline\n",
    "fig.add_hline(y=1, line_dash=\"dot\", line_color=\"gray\")\n",
    "\n",
    "fig.show()\n"
   ]
  },
  {
   "cell_type": "code",
   "execution_count": null,
   "metadata": {},
   "outputs": [],
   "source": []
  }
 ],
 "metadata": {
  "kernelspec": {
   "display_name": "base",
   "language": "python",
   "name": "python3"
  },
  "language_info": {
   "codemirror_mode": {
    "name": "ipython",
    "version": 3
   },
   "file_extension": ".py",
   "mimetype": "text/x-python",
   "name": "python",
   "nbconvert_exporter": "python",
   "pygments_lexer": "ipython3",
   "version": "3.9.18"
  }
 },
 "nbformat": 4,
 "nbformat_minor": 2
}
